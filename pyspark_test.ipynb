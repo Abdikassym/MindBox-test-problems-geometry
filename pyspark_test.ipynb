{
  "nbformat": 4,
  "nbformat_minor": 0,
  "metadata": {
    "colab": {
      "provenance": []
    },
    "kernelspec": {
      "name": "python3",
      "display_name": "Python 3"
    },
    "language_info": {
      "name": "python"
    }
  },
  "cells": [
    {
      "cell_type": "code",
      "execution_count": 1,
      "metadata": {
        "colab": {
          "base_uri": "https://localhost:8080/"
        },
        "id": "HUzY6HG-MdvS",
        "outputId": "9f3b87a6-402d-4267-8794-b0c7654c3bf6"
      },
      "outputs": [
        {
          "output_type": "stream",
          "name": "stdout",
          "text": [
            "Collecting pyspark\n",
            "  Downloading pyspark-3.5.1.tar.gz (317.0 MB)\n",
            "\u001b[2K     \u001b[90m━━━━━━━━━━━━━━━━━━━━━━━━━━━━━━━━━━━━━━━━\u001b[0m \u001b[32m317.0/317.0 MB\u001b[0m \u001b[31m3.1 MB/s\u001b[0m eta \u001b[36m0:00:00\u001b[0m\n",
            "\u001b[?25h  Preparing metadata (setup.py) ... \u001b[?25l\u001b[?25hdone\n",
            "Requirement already satisfied: py4j==0.10.9.7 in /usr/local/lib/python3.10/dist-packages (from pyspark) (0.10.9.7)\n",
            "Building wheels for collected packages: pyspark\n",
            "  Building wheel for pyspark (setup.py) ... \u001b[?25l\u001b[?25hdone\n",
            "  Created wheel for pyspark: filename=pyspark-3.5.1-py2.py3-none-any.whl size=317488491 sha256=34b296a0439ac4d1d39615bf8b8e6e8bdd10c83115229268736c545b39cfe401\n",
            "  Stored in directory: /root/.cache/pip/wheels/80/1d/60/2c256ed38dddce2fdd93be545214a63e02fbd8d74fb0b7f3a6\n",
            "Successfully built pyspark\n",
            "Installing collected packages: pyspark\n",
            "Successfully installed pyspark-3.5.1\n"
          ]
        }
      ],
      "source": [
        "!pip install pyspark"
      ]
    },
    {
      "cell_type": "code",
      "source": [
        "from pyspark.sql import SparkSession\n",
        "spark = SparkSession.builder.appName(\"MyApp\").getOrCreate()\n"
      ],
      "metadata": {
        "id": "svXh4rCQM1v3"
      },
      "execution_count": 2,
      "outputs": []
    },
    {
      "cell_type": "code",
      "source": [
        "from pyspark.sql import functions as F\n",
        "\n"
      ],
      "metadata": {
        "id": "97qs09XmQpfS"
      },
      "execution_count": 17,
      "outputs": []
    },
    {
      "cell_type": "code",
      "source": [
        "# Создаём примерные данные в виде [product_id, product_name]\n",
        "products_data = [\n",
        "    (1, \"Product A\"),\n",
        "    (2, \"Product B\"),\n",
        "    (3, \"Product C\"),\n",
        "    (4, \"Product D\")\n",
        "]\n",
        "\n",
        "# Создаём примерные данные в виде [category_id, category_name, product_id]\n",
        "# Тут третья колонна указывает принадлежность категории к id продукта\n",
        "categories_data = [\n",
        "    (1, \"Category 1\", 1),\n",
        "    (2, \"Category 2\", 1),\n",
        "    (3, \"Category 1\", 2)\n",
        "]"
      ],
      "metadata": {
        "id": "jodjZdVeNMhu"
      },
      "execution_count": 23,
      "outputs": []
    },
    {
      "cell_type": "code",
      "source": [
        "# Создаем датафреймы\n",
        "products_df = spark.createDataFrame(products_data, [\"product_id\", \"product_name\"])\n",
        "products_df.show()"
      ],
      "metadata": {
        "colab": {
          "base_uri": "https://localhost:8080/"
        },
        "id": "uEKVogx8M9z6",
        "outputId": "f621f8c3-fdab-443b-c5e7-f3924a4b1461"
      },
      "execution_count": 11,
      "outputs": [
        {
          "output_type": "stream",
          "name": "stdout",
          "text": [
            "+----------+------------+\n",
            "|product_id|product_name|\n",
            "+----------+------------+\n",
            "|         1|   Product A|\n",
            "|         2|   Product B|\n",
            "|         3|   Product C|\n",
            "|         4|   Product D|\n",
            "+----------+------------+\n",
            "\n"
          ]
        }
      ]
    },
    {
      "cell_type": "code",
      "source": [
        "categories_data = [\n",
        "    (1, \"Category 1\", 1),\n",
        "    (2, \"Category 2\", 1),\n",
        "    (3, \"Category 1\", 2)\n",
        "]\n",
        "categories_df = spark.createDataFrame(categories_data, [\"category_id\", \"category_name\", \"product_id\"])\n",
        "categories_df.show()"
      ],
      "metadata": {
        "colab": {
          "base_uri": "https://localhost:8080/"
        },
        "id": "ccn0thlvM9xy",
        "outputId": "c143e436-3592-4e4a-d41a-f818191e74a3"
      },
      "execution_count": 13,
      "outputs": [
        {
          "output_type": "stream",
          "name": "stdout",
          "text": [
            "+-----------+-------------+----------+\n",
            "|category_id|category_name|product_id|\n",
            "+-----------+-------------+----------+\n",
            "|          1|   Category 1|         1|\n",
            "|          2|   Category 2|         1|\n",
            "|          3|   Category 1|         2|\n",
            "+-----------+-------------+----------+\n",
            "\n"
          ]
        }
      ]
    },
    {
      "cell_type": "code",
      "source": [
        "# Объединяем датафреймы по product_id, тем самым продукты, у которых нет категории получают пустое значение null\n",
        "product_category_pairs = products_df.join(categories_df, \"product_id\", \"left\").select(\"product_id\", \"product_name\", \"category_name\",)\n",
        "product_category_pairs.show()\n"
      ],
      "metadata": {
        "colab": {
          "base_uri": "https://localhost:8080/"
        },
        "id": "elDr-hr0M9dt",
        "outputId": "14019064-053c-4437-ae67-97438f2738d4"
      },
      "execution_count": 22,
      "outputs": [
        {
          "output_type": "stream",
          "name": "stdout",
          "text": [
            "+----------+------------+-------------+\n",
            "|product_id|product_name|category_name|\n",
            "+----------+------------+-------------+\n",
            "|         1|   Product A|   Category 2|\n",
            "|         1|   Product A|   Category 1|\n",
            "|         2|   Product B|   Category 1|\n",
            "|         3|   Product C|         NULL|\n",
            "|         4|   Product D|         NULL|\n",
            "+----------+------------+-------------+\n",
            "\n"
          ]
        }
      ]
    },
    {
      "cell_type": "code",
      "source": [
        "# Фильтруем и получаем только те продукты, которые не имеют никаких категории\n",
        "products_without_categories = product_category_pairs.filter(product_category_pairs.category_name.isNull())\n",
        "products_without_categories.show()"
      ],
      "metadata": {
        "colab": {
          "base_uri": "https://localhost:8080/"
        },
        "id": "asm6VPFwVHK2",
        "outputId": "43045e3d-7005-41b2-94f8-890bcddb30ec"
      },
      "execution_count": 26,
      "outputs": [
        {
          "output_type": "stream",
          "name": "stdout",
          "text": [
            "+----------+------------+-------------+\n",
            "|product_id|product_name|category_name|\n",
            "+----------+------------+-------------+\n",
            "|         3|   Product C|         NULL|\n",
            "|         4|   Product D|         NULL|\n",
            "+----------+------------+-------------+\n",
            "\n"
          ]
        }
      ]
    }
  ]
}